{
  "nbformat": 4,
  "nbformat_minor": 0,
  "metadata": {
    "colab": {
      "provenance": [],
      "authorship_tag": "ABX9TyMJ1vWzTIq6kty9+5sSKjkx",
      "include_colab_link": true
    },
    "kernelspec": {
      "name": "python3",
      "display_name": "Python 3"
    },
    "language_info": {
      "name": "python"
    }
  },
  "cells": [
    {
      "cell_type": "markdown",
      "metadata": {
        "id": "view-in-github",
        "colab_type": "text"
      },
      "source": [
        "<a href=\"https://colab.research.google.com/github/JeveloperSW/opensource25/blob/main/%EA%B3%B5%ED%95%99%EC%9A%A9_%EA%B3%84%EC%82%B0%EA%B8%B0_%EB%A7%8C%EB%93%A4%EA%B8%B0.ipynb\" target=\"_parent\"><img src=\"https://colab.research.google.com/assets/colab-badge.svg\" alt=\"Open In Colab\"/></a>"
      ]
    },
    {
      "cell_type": "markdown",
      "source": [
        "# 공학용 계산기 개발의 필요성\n",
        "본 프로젝트는 많은 학생들이 **공학용 계산기**를 구매해야하는 문제를 해결하기 위해 만들었습니다.  \n",
        "예를 들면, $x^6$ 을 개발하는게 어렵습니다."
      ],
      "metadata": {
        "id": "vwYef41NE2bB"
      }
    },
    {
      "cell_type": "markdown",
      "source": [
        "## 초기값 입력\n",
        "계산을 원하는 값을 설정해주세요."
      ],
      "metadata": {
        "id": "gNNAWAoPI20M"
      }
    },
    {
      "cell_type": "code",
      "source": [
        "slider_value = 142  # @param {type: \"slider\", min: 100, max: 200}\n",
        "x = 2  # @param {type: \"number\"}\n",
        "y = 102  # @param {type: \"number\"}\n",
        "date = '2025-03-17'  # @param {type: \"date\"}\n",
        "pick_me = \"monday\"  # @param ['monday', 'tuesday', 'wednesday', 'thursday']\n",
        "select_or_input = \"apples\" # @param [\"apples\", \"bananas\", \"oranges\"] {allow-input: true}\n",
        "# @markdown ---\n"
      ],
      "metadata": {
        "id": "lcLJ9w5MJxJH"
      },
      "execution_count": 1,
      "outputs": []
    },
    {
      "cell_type": "markdown",
      "source": [
        "## 지수 값 구하기"
      ],
      "metadata": {
        "id": "S2no6S5jFjBh"
      }
    },
    {
      "cell_type": "code",
      "source": [
        "x6 = x*x*x*x*x*x\n",
        "x6\n",
        "\n",
        "if x6 > 2000000:\n",
        "  print(\"너무 큰수를 입력하셨습니다\")"
      ],
      "metadata": {
        "id": "TPdXUrMGFHOz"
      },
      "execution_count": 2,
      "outputs": []
    },
    {
      "cell_type": "code",
      "source": [
        "x6"
      ],
      "metadata": {
        "colab": {
          "base_uri": "https://localhost:8080/"
        },
        "id": "-_ec01xkOz1x",
        "outputId": "d8d1722e-8a6c-42fb-beaf-4bab271ff351"
      },
      "execution_count": 3,
      "outputs": [
        {
          "output_type": "execute_result",
          "data": {
            "text/plain": [
              "64"
            ]
          },
          "metadata": {},
          "execution_count": 3
        }
      ]
    }
  ]
}